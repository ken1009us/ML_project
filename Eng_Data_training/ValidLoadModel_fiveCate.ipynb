{
 "cells": [
  {
   "cell_type": "code",
   "execution_count": 25,
   "metadata": {},
   "outputs": [],
   "source": [
    "import numpy as np\n",
    "import pickle\n",
    "import os\n",
    "os.environ['KMP_DUPLICATE_LIB_OK']='True'\n",
    "os.environ[\"KMP_DUPLICATE_LIB_OK\"]=\"TRUE\"\n",
    "\n",
    "from tensorflow import keras\n",
    "from keras.preprocessing import sequence\n"
   ]
  },
  {
   "cell_type": "code",
   "execution_count": 26,
   "metadata": {},
   "outputs": [],
   "source": [
    "reloaded_model = keras.models.load_model('./Models/nlp_model_E01_train_loss_weight.h5')"
   ]
  },
  {
   "cell_type": "code",
   "execution_count": 27,
   "metadata": {},
   "outputs": [
    {
     "name": "stdout",
     "output_type": "stream",
     "text": [
      "Model: \"sequential_1\"\n",
      "_________________________________________________________________\n",
      "Layer (type)                 Output Shape              Param #   \n",
      "=================================================================\n",
      "embedding_1 (Embedding)      (None, 500, 32)           160000    \n",
      "_________________________________________________________________\n",
      "gru_1 (GRU)                  (None, 32)                6240      \n",
      "_________________________________________________________________\n",
      "dense_1 (Dense)              (None, 256)               8448      \n",
      "_________________________________________________________________\n",
      "dropout_1 (Dropout)          (None, 256)               0         \n",
      "_________________________________________________________________\n",
      "dense_2 (Dense)              (None, 5)                 1285      \n",
      "=================================================================\n",
      "Total params: 175,973\n",
      "Trainable params: 175,973\n",
      "Non-trainable params: 0\n",
      "_________________________________________________________________\n"
     ]
    }
   ],
   "source": [
    "reloaded_model.summary()"
   ]
  },
  {
   "cell_type": "code",
   "execution_count": 28,
   "metadata": {},
   "outputs": [],
   "source": [
    "reloaded_model.compile(loss='categorical_crossentropy',\n",
    "                       optimizer='adam',\n",
    "                       metrics=['accuracy'])"
   ]
  },
  {
   "cell_type": "code",
   "execution_count": 29,
   "metadata": {},
   "outputs": [],
   "source": [
    "with open('./Models/nlp_model_E01_token.pickle', 'rb') as handle:\n",
    "    token = pickle.load(handle)\n",
    "# print(token.word_index)"
   ]
  },
  {
   "cell_type": "code",
   "execution_count": 30,
   "metadata": {},
   "outputs": [],
   "source": [
    "SentimentDict={0:'Video_Game_Category',1:'Community',2:'Food',3:'International',4:'Entertainment'}\n",
    "def predict_article(input_text):\n",
    "    input_seq = token.texts_to_sequences([input_text])\n",
    "    pad_input_seq = sequence.pad_sequences(input_seq, maxlen = 500)\n",
    "    predict_result = reloaded_model.predict_classes(pad_input_seq)\n",
    "    print('Label:', np.argmax(reloaded_model.predict(pad_input_seq)))\n",
    "    print('Category:', SentimentDict[predict_result[0]])\n"
   ]
  },
  {
   "cell_type": "code",
   "execution_count": 31,
   "metadata": {},
   "outputs": [
    {
     "name": "stdout",
     "output_type": "stream",
     "text": [
      "Label: 4\n",
      "Category: Entertainment\n"
     ]
    }
   ],
   "source": [
    "predict_article('''\n",
    "In a shock announcement last week, Warner Bros said its 2021 slate of films - including Matrix 4, The Suicide Squad and Dune - would launch on HBO Max at the same time as cinemas in the US. It came after the studio had already revealed that the Wonder Woman sequel will stream at the same time as hitting the big screen on Christmas Day.\n",
    "\n",
    "While it means more fans will get to see the films during the COVID-19 pandemic, the \"unprecedented\" move has been seen by many as a huge blow to the struggling cinema industry.\n",
    "\n",
    "Gal Gadot is a woman in demand, back again as Wonder Woman. Pic: Warner Bros\n",
    "Image:\n",
    "Gal Gadot's return as Wonder Woman will hit HBO Max as well as cinemas on Christmas Day in the US. Pic: Warner Bros\n",
    "Cinemas have been hit by a raft of delays to high-profile films in 2020, including the latest instalments in popular franchises such as Marvel and James Bond.\n",
    "\n",
    "One of Hollywood's biggest directors, Nolan is famous for films including Inception, Dunkirk, the Dark Knight Batman trilogy, and most recently the long-awaited Tenet earlier in 2020, and is a big advocate for experiencing films on the big screen.\n",
    "\n",
    "Responding to Warner Bros' decision, he said his first reaction was \"disbelief\".\n",
    "\n",
    "Speaking to Entertainment Tonight, Nolan said: \"There's such controversy around it, because they didn't tell anyone.\n",
    "\n",
    "''')"
   ]
  },
  {
   "cell_type": "code",
   "execution_count": 32,
   "metadata": {},
   "outputs": [
    {
     "name": "stdout",
     "output_type": "stream",
     "text": [
      "Label: 4\n",
      "Category: Entertainment\n"
     ]
    }
   ],
   "source": [
    "predict_article('''\n",
    "AMD has released the newest member of its Radeon RX 6000 series: the Radeon RX 6900 XT. The card is based on the same Navi 21 silicon as the rest of the RX 6000 series so far and is being billed as the fastest Radeon card yet. According to reviews, it’s a step up from previous generations when it comes to performance, but not worth its $1,000 price tag for most consumers.\n",
    "\n",
    "Reviews agree that this card is a racehorse. “This is one blistering-fast GPU,” concludes Brad Chacos of PCWorld, while Hot Hardware’s Marco Chiappetta dubbed it “the most powerful Radeon ever.” In Tom’s Hardware’s testing, the RX 6900 XT averaged 85fps across its 13-game testing suite at 4K resolution and ultra settings and 136.1fps at 1440p.\n",
    "''')"
   ]
  },
  {
   "cell_type": "code",
   "execution_count": 34,
   "metadata": {},
   "outputs": [
    {
     "name": "stdout",
     "output_type": "stream",
     "text": [
      "Label: 0\n",
      "Category: Video_Game_Category\n"
     ]
    }
   ],
   "source": [
    "predict_article('''\n",
    "The study analyzed information from more than 27,000 adults in the U.S. ages 20 and up who took part in a national health survey between 1999 and 2010. For the survey, interviewers asked participants about what they ate in the last 24 hours, and whether they had taken supplements in the last 30 days. Participants were then tracked for about six years, on average.\n",
    "\n",
    "During the study period, about 3,600 people died; and of these, 945 died from heart disease and 805 died from cancer.\n",
    "\n",
    "The study found that people who consume adequate amounts of vitamin K or magnesium had a lower risk of death from any cause during the study period, compared with those who didn't get adequate levels of these nutrients. In addition, people who consume adequate levels of vitamin A, vitamin K, zinc or copper had a lower risk of death from heart disease, compared with those who didn't get adequate levels of these nutrients.\n",
    "\n",
    "But when the researchers considered the source of these nutrients — food vs supplements — only nutrients from food were tied to a lower risk of death from any cause or heart disease.\n",
    "\n",
    "In addition, the study found that consuming high levels of calcium from supplements — at least 1,000 milligrams per day — was linked to a higher risk of death from cancer. But there was no link between intake of calcium from food and risk of death from cancer.\n",
    "\n",
    "The findings suggested that \"adequate nutrient intake from foods was associated with reduced mortality, [while] excess intake from supplements could be harmful,\" the researchers concluded.\n",
    "\n",
    "Still, the researchers noted that they didn't objectively measure what participants consumed, but instead relied on their self reports, which may not be entirely accurate. Future studies should continue to examine the potential risks and benefits of supplements.\n",
    "''')"
   ]
  },
  {
   "cell_type": "code",
   "execution_count": null,
   "metadata": {},
   "outputs": [],
   "source": []
  }
 ],
 "metadata": {
  "kernelspec": {
   "display_name": "Python 3",
   "language": "python",
   "name": "python3"
  },
  "language_info": {
   "codemirror_mode": {
    "name": "ipython",
    "version": 3
   },
   "file_extension": ".py",
   "mimetype": "text/x-python",
   "name": "python",
   "nbconvert_exporter": "python",
   "pygments_lexer": "ipython3",
   "version": "3.7.5"
  }
 },
 "nbformat": 4,
 "nbformat_minor": 4
}
