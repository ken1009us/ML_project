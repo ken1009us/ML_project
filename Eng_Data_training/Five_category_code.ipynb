{
 "cells": [
  {
   "cell_type": "code",
   "execution_count": 1,
   "metadata": {},
   "outputs": [
    {
     "name": "stderr",
     "output_type": "stream",
     "text": [
      "Using TensorFlow backend.\n"
     ]
    }
   ],
   "source": [
    "from keras.preprocessing import sequence\n",
    "from keras.preprocessing.text import Tokenizer\n",
    "from keras.models import Sequential\n",
    "from keras.layers.core import Dense, Dropout, Activation, Flatten\n",
    "from keras.layers.embeddings import Embedding\n",
    "from keras.layers.recurrent import GRU\n",
    "from keras import utils as np_utils\n",
    "from keras.callbacks import ModelCheckpoint, ReduceLROnPlateau, LearningRateScheduler, EarlyStopping\n",
    "from sklearn.model_selection import train_test_split\n",
    "from keras.models import load_model\n"
   ]
  },
  {
   "cell_type": "code",
   "execution_count": 2,
   "metadata": {},
   "outputs": [],
   "source": [
    "import os\n",
    "os.environ['TF_CPP_MIN_LOG_LEVEL'] = '2'\n",
    "os.environ[\"KMP_DUPLICATE_LIB_OK\"]=\"TRUE\"\n",
    "import warnings\n",
    "warnings.filterwarnings('ignore')\n",
    "import re\n",
    "import numpy as np\n",
    "import pandas as pd\n",
    "import random\n",
    "import matplotlib.pyplot as plt\n",
    "import pickle"
   ]
  },
  {
   "cell_type": "code",
   "execution_count": 3,
   "metadata": {},
   "outputs": [],
   "source": [
    "def read_file():\n",
    "    path = './Five_category_data.csv'\n",
    "    df = pd.read_csv(path, encoding = 'unicode_escape').astype(\"str\")\n",
    "#     print(df)\n",
    "#     print(df[['content','category']].head(5))\n",
    "    return df\n",
    "    \n",
    "# read_file()"
   ]
  },
  {
   "cell_type": "code",
   "execution_count": 4,
   "metadata": {},
   "outputs": [],
   "source": [
    "num = 0\n",
    "data_list = []\n",
    "contents = []\n",
    "categories = []\n",
    "drop_out_categories = []\n",
    "df = read_file()\n",
    "df = df[['content','category']]\n",
    "change_to_number = df.replace({'Video_Game_Category':0, \n",
    "                                'Community':1, \n",
    "                                'Food':2, \n",
    "                                'International':3, \n",
    "                                'Entertainment':4})\n",
    "# print(change_to_number)\n",
    "final_df = change_to_number[change_to_number['category'].isin([0, 1, 2, 3, 4])]\n",
    "# print(final_df)\n",
    "\n",
    "data_list = final_df.values.tolist()\n",
    "random.shuffle(data_list)\n",
    "for data in data_list:\n",
    "    data[0], data[1]\n",
    "    contents.append(data[0])\n",
    "#categories.append(data[1])\n",
    "\n",
    "token = Tokenizer(num_words=5000, filters='!\"#$%&()*+,-./:;<=>?@[\\]^_`{|}~\\t\\n', lower=None, split=\" \", char_level=False)\n",
    "token.fit_on_texts(contents)\n",
    "# print(token.document_count)\n",
    "# print(token.word_index)\n",
    "\n",
    "with open('./Models/nlp_model_E01_token.pickle', 'wb') as handle:\n",
    "    pickle.dump(token, handle, protocol=pickle.HIGHEST_PROTOCOL)\n",
    "    "
   ]
  },
  {
   "cell_type": "code",
   "execution_count": 5,
   "metadata": {},
   "outputs": [],
   "source": [
    "loadtrainlst, temp = train_test_split(data_list, test_size=0.5, random_state=42)\n",
    "loadvaildlst, loadtestlst = train_test_split(temp, test_size=0.5, random_state=42)\n",
    "# for data in data_list:\n",
    "#     print(data[1])\n",
    "x_loadtrain = []\n",
    "y_loadtrain = []\n",
    "for train_data in loadtrainlst:\n",
    "    train_data[0], train_data[1]\n",
    "    x_loadtrain.append(train_data[0])\n",
    "    y_loadtrain.append(train_data[1])\n",
    "\n",
    "x_loadvalid = []\n",
    "y_loadvalid = []\n",
    "for valid_data in loadvaildlst:\n",
    "    valid_data[0], valid_data[1]\n",
    "    x_loadvalid.append(valid_data[0])\n",
    "    y_loadvalid.append(valid_data[1])\n",
    "    \n",
    "x_loadtest = []\n",
    "y_loadtest = []\n",
    "for test_data in loadtestlst:\n",
    "    test_data[0], test_data[1]\n",
    "    x_loadtest.append(test_data[0])\n",
    "    y_loadtest.append(test_data[1])\n",
    "\n",
    "x_train_seq = token.texts_to_sequences(x_loadtrain)\n",
    "x_valid_seq = token.texts_to_sequences(x_loadvalid)\n",
    "x_test_seq = token.texts_to_sequences(x_loadtest)\n",
    "\n",
    "x_train = sequence.pad_sequences(x_train_seq, maxlen = 500)\n",
    "x_valid = sequence.pad_sequences(x_valid_seq, maxlen = 500)\n",
    "x_test = sequence.pad_sequences(x_test_seq, maxlen = 500)\n",
    "\n",
    "y_loadtrain = np.array(y_loadtrain)\n",
    "y_loadvalid = np.array(y_loadvalid)\n",
    "y_loadtest = np.array(y_loadtest)\n"
   ]
  },
  {
   "cell_type": "code",
   "execution_count": 6,
   "metadata": {},
   "outputs": [],
   "source": [
    "y_tr_OneHot = np_utils.to_categorical(y_loadtrain, 5)\n",
    "y_va_OneHot = np_utils.to_categorical(y_loadvalid, 5)\n",
    "y_te_OneHot = np_utils.to_categorical(y_loadtest, 5)\n",
    "\n",
    "x_train = np.array(x_train)\n",
    "x_valid = np.array(x_valid)\n",
    "x_test = np.array(x_test)"
   ]
  },
  {
   "cell_type": "code",
   "execution_count": 16,
   "metadata": {},
   "outputs": [
    {
     "name": "stdout",
     "output_type": "stream",
     "text": [
      "Model: \"sequential_1\"\n",
      "_________________________________________________________________\n",
      "Layer (type)                 Output Shape              Param #   \n",
      "=================================================================\n",
      "embedding_1 (Embedding)      (None, 500, 32)           160000    \n",
      "_________________________________________________________________\n",
      "gru_1 (GRU)                  (None, 32)                6240      \n",
      "_________________________________________________________________\n",
      "dense_1 (Dense)              (None, 256)               8448      \n",
      "_________________________________________________________________\n",
      "dropout_1 (Dropout)          (None, 256)               0         \n",
      "_________________________________________________________________\n",
      "dense_2 (Dense)              (None, 5)                 1285      \n",
      "=================================================================\n",
      "Total params: 175,973\n",
      "Trainable params: 175,973\n",
      "Non-trainable params: 0\n",
      "_________________________________________________________________\n"
     ]
    }
   ],
   "source": [
    "model_name = 'nlp_model_E01'\n",
    "model = Sequential()\n",
    "model.add(Embedding(output_dim=32,\n",
    "                    input_dim=5000,\n",
    "                    input_length=500))\n",
    "# model.add(Dropout(0.35))\n",
    "model.add(GRU(32))\n",
    "model.add(Dense(units=256, activation='relu'))\n",
    "model.add(Dropout(0.35))\n",
    "model.add(Dense(units=5,activation='softmax'))\n",
    "model.summary()"
   ]
  },
  {
   "cell_type": "code",
   "execution_count": 17,
   "metadata": {},
   "outputs": [],
   "source": [
    "model.compile(loss='categorical_crossentropy',\n",
    "             optimizer='adam',\n",
    "             metrics=['accuracy'])"
   ]
  },
  {
   "cell_type": "code",
   "execution_count": 18,
   "metadata": {},
   "outputs": [],
   "source": [
    "model_train_loss_fullmode = ModelCheckpoint('./Models/%s_train_loss_weight.h5' % model_name,\n",
    "                                                            monitor='loss',\n",
    "                                                            save_best_only=True,\n",
    "                                                            mode='min')"
   ]
  },
  {
   "cell_type": "code",
   "execution_count": 19,
   "metadata": {},
   "outputs": [],
   "source": [
    "model_train_val_loss_fullmode = ModelCheckpoint('./Models/%s_train_val_loss_weight.h5' % model_name,\n",
    "                                                            monitor='val_loss',\n",
    "                                                            save_best_only=True,\n",
    "                                                            mode='min')"
   ]
  },
  {
   "cell_type": "code",
   "execution_count": 20,
   "metadata": {},
   "outputs": [],
   "source": [
    "yaml_string = model.to_yaml()\n",
    "yamlfilepath = './Models/' + model_name + '_' + '.yaml'\n",
    "with open(yamlfilepath, 'w') as outfile:\n",
    "    outfile.write(yaml_string)"
   ]
  },
  {
   "cell_type": "code",
   "execution_count": 21,
   "metadata": {},
   "outputs": [
    {
     "name": "stdout",
     "output_type": "stream",
     "text": [
      "Train on 10874 samples, validate on 5437 samples\n",
      "Epoch 1/10\n",
      " - 165s - loss: 0.6649 - accuracy: 0.8392 - val_loss: 0.0492 - val_accuracy: 0.9860\n",
      "Epoch 2/10\n",
      " - 157s - loss: 0.0182 - accuracy: 0.9953 - val_loss: 0.0193 - val_accuracy: 0.9939\n",
      "Epoch 3/10\n",
      " - 169s - loss: 0.0047 - accuracy: 0.9993 - val_loss: 0.0107 - val_accuracy: 0.9974\n",
      "Epoch 4/10\n",
      " - 163s - loss: 0.0010 - accuracy: 0.9998 - val_loss: 0.0110 - val_accuracy: 0.9974\n",
      "Epoch 5/10\n",
      " - 148s - loss: 7.4424e-04 - accuracy: 0.9997 - val_loss: 0.0118 - val_accuracy: 0.9972\n",
      "Epoch 6/10\n",
      " - 142s - loss: 2.1464e-04 - accuracy: 1.0000 - val_loss: 0.0108 - val_accuracy: 0.9980\n",
      "Epoch 7/10\n",
      " - 149s - loss: 1.1844e-04 - accuracy: 1.0000 - val_loss: 0.0107 - val_accuracy: 0.9980\n",
      "Epoch 8/10\n",
      " - 146s - loss: 8.1514e-05 - accuracy: 1.0000 - val_loss: 0.0115 - val_accuracy: 0.9980\n",
      "Epoch 9/10\n",
      " - 172s - loss: 6.3659e-05 - accuracy: 1.0000 - val_loss: 0.0116 - val_accuracy: 0.9980\n",
      "Epoch 10/10\n",
      " - 162s - loss: 5.3861e-05 - accuracy: 1.0000 - val_loss: 0.0119 - val_accuracy: 0.9980\n"
     ]
    }
   ],
   "source": [
    "train_history=model.fit(x_train, \n",
    "                        y_tr_OneHot, \n",
    "                        validation_data = [x_valid, y_va_OneHot],\n",
    "                        batch_size=100,\n",
    "                        epochs=10, \n",
    "                        verbose=2,\n",
    "                        callbacks=[model_train_loss_fullmode, model_train_val_loss_fullmode])"
   ]
  },
  {
   "cell_type": "code",
   "execution_count": 22,
   "metadata": {},
   "outputs": [],
   "source": [
    "def show_train_history(train_history, train, validation):\n",
    "    plt.plot(train_history.history[train])\n",
    "    plt.plot(train_history.history[validation])\n",
    "    plt.title('Train History')\n",
    "    plt.ylabel(train)\n",
    "    plt.xlabel('Epoch')\n",
    "    plt.legend(['train', 'validation'], loc='upper left')\n",
    "    plt.show()"
   ]
  },
  {
   "cell_type": "code",
   "execution_count": 23,
   "metadata": {},
   "outputs": [
    {
     "data": {
      "image/png": "[encoded data removed]",
      "text/plain": [
       "<Figure size 432x288 with 1 Axes>"
      ]
     },
     "metadata": {
      "needs_background": "light"
     },
     "output_type": "display_data"
    }
   ],
   "source": [
    "show_train_history(train_history, 'accuracy', 'val_accuracy')"
   ]
  },
  {
   "cell_type": "code",
   "execution_count": 24,
   "metadata": {},
   "outputs": [
    {
     "data": {
      "image/png": "[encoded data removed]",
      "text/plain": [
       "<Figure size 432x288 with 1 Axes>"
      ]
     },
     "metadata": {
      "needs_background": "light"
     },
     "output_type": "display_data"
    }
   ],
   "source": [
    "show_train_history(train_history, 'loss', 'val_loss')"
   ]
  },
  {
   "cell_type": "code",
   "execution_count": 25,
   "metadata": {},
   "outputs": [
    {
     "name": "stdout",
     "output_type": "stream",
     "text": [
      "5438/5438 [==============================] - 33s 6ms/step\n"
     ]
    },
    {
     "data": {
      "text/plain": [
       "0.9961382746696472"
      ]
     },
     "execution_count": 25,
     "metadata": {},
     "output_type": "execute_result"
    }
   ],
   "source": [
    "scores = model.evaluate(x_test, y_te_OneHot, verbose=1)\n",
    "scores[1]"
   ]
  },
  {
   "cell_type": "code",
   "execution_count": 27,
   "metadata": {},
   "outputs": [
    {
     "data": {
      "text/plain": [
       "array([1, 2, 4, ..., 1, 0, 2])"
      ]
     },
     "execution_count": 27,
     "metadata": {},
     "output_type": "execute_result"
    }
   ],
   "source": [
    "predict = model.predict_classes(x_test)\n",
    "# predict = (model.predict(x_test) > 0.5).astype(\"int32\")\n",
    "# predict[:10]\n",
    "predict.shape\n",
    "predict_classes=predict.reshape(5438)\n",
    "predict_classes"
   ]
  },
  {
   "cell_type": "code",
   "execution_count": 28,
   "metadata": {},
   "outputs": [],
   "source": [
    "SentimentDict={0:'Video_Game_Category',1:'Community',2:'Food',3:'International',4:'Entertainment'}\n",
    "def display_test_Sentiment(i):\n",
    "    print(x_test[i])\n",
    "    print('label：',SentimentDict[y_loadtest[i]],\n",
    "         'prediction：',SentimentDict[predict_classes[i]])\n",
    "    \n",
    "# display_test_Sentiment(6)\n",
    "\n"
   ]
  },
  {
   "cell_type": "code",
   "execution_count": 29,
   "metadata": {},
   "outputs": [
    {
     "name": "stdout",
     "output_type": "stream",
     "text": [
      "Video_Game_Category\n"
     ]
    }
   ],
   "source": [
    "def predict_article(input_text):\n",
    "    input_seq = token.texts_to_sequences([input_text])\n",
    "    pad_input_seq = sequence.pad_sequences(input_seq, maxlen = 500)\n",
    "    predict_result = model.predict_classes(pad_input_seq)\n",
    "    print(SentimentDict[predict_result[0]])\n",
    "\n",
    "predict_article('''\n",
    "The PlayStation 5 and Xbox Series X / S have been out for a few weeks now. And while we’ve been loving next-gen titles like Astro’s Playroom and Spider-Man: Miles Morales, many Verge staffers have been marveling at something unexpected: older games on newer consoles.\n",
    "\n",
    "Thanks to more powerful hardware, many games now have more stable resolutions, better frame rates, and faster load times, which makes playing them even better than before. And the PlayStation Plus Collection and Xbox Game Pass offer a plethora of older titles at a monthly price that’s far cheaper than a brand-new next-gen game.\n",
    "\n",
    "We’ve all spent time with different games, so our newsroom wanted to share some of our experiences in case you’ve been wondering just how well older games might fare on the PS5 and Xbox Series consoles.\n",
    "''')"
   ]
  },
  {
   "cell_type": "code",
   "execution_count": 30,
   "metadata": {},
   "outputs": [
    {
     "data": {
      "text/html": [
       "<div>\n",
       "<style scoped>\n",
       "    .dataframe tbody tr th:only-of-type {\n",
       "        vertical-align: middle;\n",
       "    }\n",
       "\n",
       "    .dataframe tbody tr th {\n",
       "        vertical-align: top;\n",
       "    }\n",
       "\n",
       "    .dataframe thead th {\n",
       "        text-align: right;\n",
       "    }\n",
       "</style>\n",
       "<table border=\"1\" class=\"dataframe\">\n",
       "  <thead>\n",
       "    <tr style=\"text-align: right;\">\n",
       "      <th>predict</th>\n",
       "      <th>0</th>\n",
       "      <th>1</th>\n",
       "      <th>2</th>\n",
       "      <th>3</th>\n",
       "      <th>4</th>\n",
       "      <th>All</th>\n",
       "    </tr>\n",
       "    <tr>\n",
       "      <th>label</th>\n",
       "      <th></th>\n",
       "      <th></th>\n",
       "      <th></th>\n",
       "      <th></th>\n",
       "      <th></th>\n",
       "      <th></th>\n",
       "    </tr>\n",
       "  </thead>\n",
       "  <tbody>\n",
       "    <tr>\n",
       "      <th>0</th>\n",
       "      <td>970</td>\n",
       "      <td>0</td>\n",
       "      <td>0</td>\n",
       "      <td>0</td>\n",
       "      <td>10</td>\n",
       "      <td>980</td>\n",
       "    </tr>\n",
       "    <tr>\n",
       "      <th>1</th>\n",
       "      <td>0</td>\n",
       "      <td>1297</td>\n",
       "      <td>0</td>\n",
       "      <td>0</td>\n",
       "      <td>0</td>\n",
       "      <td>1297</td>\n",
       "    </tr>\n",
       "    <tr>\n",
       "      <th>2</th>\n",
       "      <td>4</td>\n",
       "      <td>1</td>\n",
       "      <td>1004</td>\n",
       "      <td>0</td>\n",
       "      <td>2</td>\n",
       "      <td>1011</td>\n",
       "    </tr>\n",
       "    <tr>\n",
       "      <th>3</th>\n",
       "      <td>0</td>\n",
       "      <td>0</td>\n",
       "      <td>0</td>\n",
       "      <td>1019</td>\n",
       "      <td>0</td>\n",
       "      <td>1019</td>\n",
       "    </tr>\n",
       "    <tr>\n",
       "      <th>4</th>\n",
       "      <td>3</td>\n",
       "      <td>0</td>\n",
       "      <td>1</td>\n",
       "      <td>0</td>\n",
       "      <td>1127</td>\n",
       "      <td>1131</td>\n",
       "    </tr>\n",
       "    <tr>\n",
       "      <th>All</th>\n",
       "      <td>977</td>\n",
       "      <td>1298</td>\n",
       "      <td>1005</td>\n",
       "      <td>1019</td>\n",
       "      <td>1139</td>\n",
       "      <td>5438</td>\n",
       "    </tr>\n",
       "  </tbody>\n",
       "</table>\n",
       "</div>"
      ],
      "text/plain": [
       "predict    0     1     2     3     4   All\n",
       "label                                     \n",
       "0        970     0     0     0    10   980\n",
       "1          0  1297     0     0     0  1297\n",
       "2          4     1  1004     0     2  1011\n",
       "3          0     0     0  1019     0  1019\n",
       "4          3     0     1     0  1127  1131\n",
       "All      977  1298  1005  1019  1139  5438"
      ]
     },
     "execution_count": 30,
     "metadata": {},
     "output_type": "execute_result"
    }
   ],
   "source": [
    "pd.crosstab(y_loadtest, predict,\n",
    "           rownames=['label'],colnames=['predict'],\n",
    "           margins=True)"
   ]
  },
  {
   "cell_type": "code",
   "execution_count": null,
   "metadata": {},
   "outputs": [],
   "source": []
  }
 ],
 "metadata": {
  "kernelspec": {
   "display_name": "Python 3",
   "language": "python",
   "name": "python3"
  },
  "language_info": {
   "codemirror_mode": {
    "name": "ipython",
    "version": 3
   },
   "file_extension": ".py",
   "mimetype": "text/x-python",
   "name": "python",
   "nbconvert_exporter": "python",
   "pygments_lexer": "ipython3",
   "version": "3.7.5"
  }
 },
 "nbformat": 4,
 "nbformat_minor": 4
}
